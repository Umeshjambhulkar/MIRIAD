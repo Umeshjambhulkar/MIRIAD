{
 "cells": [
  {
   "cell_type": "code",
   "execution_count": 2,
   "metadata": {},
   "outputs": [],
   "source": [
    "import pickle\n",
    "import os\n",
    "import pandas as pd"
   ]
  },
  {
   "cell_type": "code",
   "execution_count": 3,
   "metadata": {},
   "outputs": [],
   "source": [
    "logs_dir = 'logs'\n",
    "benchmark_dataset = 'medmcqa'\n",
    "split = 'dev' # 'dev', 'devfirst1k'\n",
    "embed_model_short_list = ['bge-large-en-v1.5'] # 'bge-large-en-v1.5', 'all-MiniLM-L6-v2'\n",
    "content_list = ['qa', 'woRAG']\n",
    "backbone_llm_type = 'mistral' # 'claude', 'mistral', 'llama3'\n",
    "extra_suffix = '1855' #'new_prompt_formatfix', None, 'old_prompt_formatfix', '1855'"
   ]
  },
  {
   "cell_type": "code",
   "execution_count": 6,
   "metadata": {},
   "outputs": [
    {
     "data": {
      "text/plain": [
       "['medmcqa_dev_bge-large-en-v1.5_miriad_5.8M_qa_mistral_2025-05-22-15-59_logs_1855_1000tokens.pkl',\n",
       " 'medmcqa_dev_bge-large-en-v1.5_miriad_5.8M_woRAG_mistral_2024-12-19-11-43_logs_1855_1000tokens.pkl']"
      ]
     },
     "execution_count": 6,
     "metadata": {},
     "output_type": "execute_result"
    }
   ],
   "source": [
    "log_files = [f for f in os.listdir(logs_dir) if f.endswith('.pkl')]\n",
    "log_files"
   ]
  },
  {
   "cell_type": "code",
   "execution_count": 13,
   "metadata": {},
   "outputs": [],
   "source": [
    "results = []\n",
    "for embed_model_name in embed_model_short_list:\n",
    "    for content in content_list:\n",
    "        for log_file in log_files:\n",
    "            if extra_suffix is not None and extra_suffix not in log_file:\n",
    "                continue\n",
    "            elif extra_suffix is None and not log_file.endswith('logs.pkl'):\n",
    "                continue\n",
    "            if f'{benchmark_dataset}_{split}_{embed_model_name}_miriad_5.8M_{content}_{backbone_llm_type}' in log_file:\n",
    "                with open(f'{logs_dir}/{log_file}', 'rb') as f:\n",
    "                    logs = pickle.load(f)\n",
    "                if content == 'qa':\n",
    "                    qa_logs = logs\n",
    "                elif content == 'passage_text':\n",
    "                    passage_text_logs = logs\n",
    "                elif content == 'woRAG':\n",
    "                    woRAG_logs = logs\n",
    "                eval_score = logs['eval_scores']['accuracy']\n",
    "                results.append({\n",
    "                    'embed_model': embed_model_name,\n",
    "                    'backbone_llm': backbone_llm_type,\n",
    "                    'rag_content': content,\n",
    "                    'eval_score': eval_score\n",
    "                })\n",
    "df = pd.DataFrame(results)"
   ]
  },
  {
   "cell_type": "code",
   "execution_count": 14,
   "metadata": {},
   "outputs": [
    {
     "data": {
      "text/html": [
       "<div>\n",
       "<style scoped>\n",
       "    .dataframe tbody tr th:only-of-type {\n",
       "        vertical-align: middle;\n",
       "    }\n",
       "\n",
       "    .dataframe tbody tr th {\n",
       "        vertical-align: top;\n",
       "    }\n",
       "\n",
       "    .dataframe thead th {\n",
       "        text-align: right;\n",
       "    }\n",
       "</style>\n",
       "<table border=\"1\" class=\"dataframe\">\n",
       "  <thead>\n",
       "    <tr style=\"text-align: right;\">\n",
       "      <th></th>\n",
       "      <th>embed_model</th>\n",
       "      <th>backbone_llm</th>\n",
       "      <th>rag_content</th>\n",
       "      <th>eval_score</th>\n",
       "    </tr>\n",
       "  </thead>\n",
       "  <tbody>\n",
       "    <tr>\n",
       "      <th>0</th>\n",
       "      <td>bge-large-en-v1.5</td>\n",
       "      <td>mistral</td>\n",
       "      <td>qa</td>\n",
       "      <td>0.596940</td>\n",
       "    </tr>\n",
       "    <tr>\n",
       "      <th>1</th>\n",
       "      <td>bge-large-en-v1.5</td>\n",
       "      <td>mistral</td>\n",
       "      <td>woRAG</td>\n",
       "      <td>0.534784</td>\n",
       "    </tr>\n",
       "  </tbody>\n",
       "</table>\n",
       "</div>"
      ],
      "text/plain": [
       "         embed_model backbone_llm rag_content  eval_score\n",
       "0  bge-large-en-v1.5      mistral          qa    0.596940\n",
       "1  bge-large-en-v1.5      mistral       woRAG    0.534784"
      ]
     },
     "execution_count": 14,
     "metadata": {},
     "output_type": "execute_result"
    }
   ],
   "source": [
    "df"
   ]
  }
 ],
 "metadata": {
  "kernelspec": {
   "display_name": ".venv",
   "language": "python",
   "name": "python3"
  },
  "language_info": {
   "codemirror_mode": {
    "name": "ipython",
    "version": 3
   },
   "file_extension": ".py",
   "mimetype": "text/x-python",
   "name": "python",
   "nbconvert_exporter": "python",
   "pygments_lexer": "ipython3",
   "version": "3.10.12"
  }
 },
 "nbformat": 4,
 "nbformat_minor": 2
}
